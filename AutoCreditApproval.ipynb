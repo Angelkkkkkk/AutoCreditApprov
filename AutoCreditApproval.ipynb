{
 "cells": [
  {
   "cell_type": "code",
   "execution_count": 1,
   "metadata": {},
   "outputs": [],
   "source": [
    "import numpy as np \n",
    "import pandas as pd \n",
    "import matplotlib.pyplot as plt\n",
    "from sklearn.preprocessing import OneHotEncoder\n",
    "from sklearn.preprocessing import LabelEncoder\n",
    "from sklearn.metrics import accuracy_score, recall_score, precision_score, confusion_matrix\n",
    "import warnings\n",
    "from sklearn.model_selection import train_test_split, GridSearchCV\n",
    "\n",
    "import seaborn as sns\n",
    "from sklearn.metrics import accuracy_score, recall_score, precision_score, f1_score\n",
    "from sklearn.metrics import confusion_matrix, classification_report\n",
    "from sklearn.metrics import roc_curve, auc, average_precision_score\n",
    "\n",
    "from sklearn.naive_bayes import GaussianNB\n",
    "from sklearn.ensemble import GradientBoostingClassifier\n",
    "from sklearn.ensemble import RandomForestClassifier\n",
    "from sklearn.datasets import make_classification\n",
    "from sklearn.ensemble import AdaBoostClassifier\n",
    "from sklearn import svm\n",
    "from sklearn.ensemble import BaggingClassifier\n",
    "from sklearn.neighbors import KNeighborsClassifier\n",
    "from sklearn.svm import SVC"
   ]
  },
  {
   "cell_type": "markdown",
   "metadata": {},
   "source": [
    "## Data Preparation"
   ]
  },
  {
   "cell_type": "code",
   "execution_count": 2,
   "metadata": {},
   "outputs": [],
   "source": [
    "warnings.filterwarnings('ignore')\n",
    "original_data = pd.read_csv('train_data.csv',index_col=0)\n",
    "# Split the original data into two subsets, eval_data is used for model comparison\n",
    "train_data, valid_data = train_test_split(original_data, test_size=0.3, random_state=0, shuffle=True)\n",
    "train_data.index = range(len(train_data))"
   ]
  },
  {
   "cell_type": "code",
   "execution_count": 3,
   "metadata": {},
   "outputs": [],
   "source": [
    "train_data = pd.concat([train_data, valid_data], axis=0)\n",
    "train_data.index = range(len(train_data))\n",
    "train_data.loc[train_data['OCCUPATION']!=1,'OCCUPATION'] = 0\n",
    "cat_vars = ['MARRIAGE', 'EDUCATION']\n",
    "encoders = [OneHotEncoder(categories='auto') for _ in range(len(cat_vars))] \n",
    "encoded_tr = [encoders[i].fit_transform(train_data[[cat_var]]).todense() for i,cat_var in enumerate(cat_vars)]\n",
    "X = pd.concat([train_data.iloc[:,:-1].drop(cat_vars, axis=1), \n",
    "                     pd.DataFrame(np.concatenate(encoded_tr, axis=1))], axis=1)\n",
    "y = train_data.iloc[:,-1] \n",
    "X = X.rename(columns={0:'Marriage 1',1:'Marriage 2',2:'Marriage 3',3:'Edu 1',4:'Edu 2',5:'Edu 3',\n",
    "                                  6:'Edu 4',7:'Edu 5',8:'Edu 6',9:'Edu 7'})\n",
    "X = X.drop(['Marriage 3','Edu 7'], axis=1)\n",
    "\n",
    "X_valid = pd.DataFrame(X.iloc[-len(valid_data):])\n",
    "y_valid = train_data.iloc[-len(valid_data):,-1] \n",
    "X.drop(X.tail(len(valid_data)).index, inplace=True)\n",
    "y.drop(y.tail(len(valid_data)).index, inplace=True)\n",
    "\n",
    "for i in [0,1,2,3,4,5,8]:\n",
    "    X1 = X.iloc[:,i]\n",
    "    mean = X1.mean()\n",
    "    std = X1.std()\n",
    "    X.iloc[:,i] = (X.iloc[:,i]-mean)/std\n",
    "    X_valid.iloc[:,i] = (X_valid.iloc[:,i]-mean)/std"
   ]
  },
  {
   "cell_type": "code",
   "execution_count": 4,
   "metadata": {},
   "outputs": [
    {
     "data": {
      "text/html": [
       "<div>\n",
       "<style scoped>\n",
       "    .dataframe tbody tr th:only-of-type {\n",
       "        vertical-align: middle;\n",
       "    }\n",
       "\n",
       "    .dataframe tbody tr th {\n",
       "        vertical-align: top;\n",
       "    }\n",
       "\n",
       "    .dataframe thead th {\n",
       "        text-align: right;\n",
       "    }\n",
       "</style>\n",
       "<table border=\"1\" class=\"dataframe\">\n",
       "  <thead>\n",
       "    <tr style=\"text-align: right;\">\n",
       "      <th></th>\n",
       "      <th>DEBT</th>\n",
       "      <th>YRS_IN_RESIDENT</th>\n",
       "      <th>AGE</th>\n",
       "      <th>YRS_OF_EMPLOYMENT</th>\n",
       "      <th>DTI</th>\n",
       "      <th>NUM_PREV_APP</th>\n",
       "      <th>OCCUPATION</th>\n",
       "      <th>PROVIDED_SIN</th>\n",
       "      <th>INCOME</th>\n",
       "      <th>CREDIT_PROFILE</th>\n",
       "      <th>Marriage 1</th>\n",
       "      <th>Marriage 2</th>\n",
       "      <th>Edu 1</th>\n",
       "      <th>Edu 2</th>\n",
       "      <th>Edu 3</th>\n",
       "      <th>Edu 4</th>\n",
       "      <th>Edu 5</th>\n",
       "      <th>Edu 6</th>\n",
       "    </tr>\n",
       "  </thead>\n",
       "  <tbody>\n",
       "    <tr>\n",
       "      <td>0</td>\n",
       "      <td>-0.146091</td>\n",
       "      <td>0.347996</td>\n",
       "      <td>1.890029</td>\n",
       "      <td>0.432950</td>\n",
       "      <td>1.266862</td>\n",
       "      <td>0.111744</td>\n",
       "      <td>0</td>\n",
       "      <td>0</td>\n",
       "      <td>-0.904027</td>\n",
       "      <td>1</td>\n",
       "      <td>0.0</td>\n",
       "      <td>1.0</td>\n",
       "      <td>0.0</td>\n",
       "      <td>0.0</td>\n",
       "      <td>0.0</td>\n",
       "      <td>0.0</td>\n",
       "      <td>0.0</td>\n",
       "      <td>0.0</td>\n",
       "    </tr>\n",
       "    <tr>\n",
       "      <td>1</td>\n",
       "      <td>0.229710</td>\n",
       "      <td>-1.005322</td>\n",
       "      <td>-1.130328</td>\n",
       "      <td>-0.819964</td>\n",
       "      <td>-0.609370</td>\n",
       "      <td>-0.336397</td>\n",
       "      <td>0</td>\n",
       "      <td>1</td>\n",
       "      <td>0.196528</td>\n",
       "      <td>0</td>\n",
       "      <td>1.0</td>\n",
       "      <td>0.0</td>\n",
       "      <td>0.0</td>\n",
       "      <td>0.0</td>\n",
       "      <td>0.0</td>\n",
       "      <td>1.0</td>\n",
       "      <td>0.0</td>\n",
       "      <td>0.0</td>\n",
       "    </tr>\n",
       "    <tr>\n",
       "      <td>2</td>\n",
       "      <td>-0.271358</td>\n",
       "      <td>-1.343651</td>\n",
       "      <td>-0.314015</td>\n",
       "      <td>-0.723586</td>\n",
       "      <td>0.055930</td>\n",
       "      <td>0.559885</td>\n",
       "      <td>0</td>\n",
       "      <td>0</td>\n",
       "      <td>0.196528</td>\n",
       "      <td>1</td>\n",
       "      <td>0.0</td>\n",
       "      <td>1.0</td>\n",
       "      <td>0.0</td>\n",
       "      <td>0.0</td>\n",
       "      <td>0.0</td>\n",
       "      <td>1.0</td>\n",
       "      <td>0.0</td>\n",
       "      <td>0.0</td>\n",
       "    </tr>\n",
       "    <tr>\n",
       "      <td>3</td>\n",
       "      <td>-0.521891</td>\n",
       "      <td>0.686325</td>\n",
       "      <td>0.175772</td>\n",
       "      <td>-0.241696</td>\n",
       "      <td>1.705647</td>\n",
       "      <td>-0.560467</td>\n",
       "      <td>1</td>\n",
       "      <td>1</td>\n",
       "      <td>0.196528</td>\n",
       "      <td>0</td>\n",
       "      <td>0.0</td>\n",
       "      <td>1.0</td>\n",
       "      <td>0.0</td>\n",
       "      <td>0.0</td>\n",
       "      <td>0.0</td>\n",
       "      <td>0.0</td>\n",
       "      <td>0.0</td>\n",
       "      <td>0.0</td>\n",
       "    </tr>\n",
       "    <tr>\n",
       "      <td>4</td>\n",
       "      <td>0.605511</td>\n",
       "      <td>1.362984</td>\n",
       "      <td>-0.558909</td>\n",
       "      <td>-0.771775</td>\n",
       "      <td>-0.324445</td>\n",
       "      <td>-0.560467</td>\n",
       "      <td>1</td>\n",
       "      <td>1</td>\n",
       "      <td>1.572221</td>\n",
       "      <td>0</td>\n",
       "      <td>0.0</td>\n",
       "      <td>1.0</td>\n",
       "      <td>0.0</td>\n",
       "      <td>0.0</td>\n",
       "      <td>0.0</td>\n",
       "      <td>1.0</td>\n",
       "      <td>0.0</td>\n",
       "      <td>0.0</td>\n",
       "    </tr>\n",
       "  </tbody>\n",
       "</table>\n",
       "</div>"
      ],
      "text/plain": [
       "       DEBT  YRS_IN_RESIDENT       AGE  YRS_OF_EMPLOYMENT       DTI  \\\n",
       "0 -0.146091         0.347996  1.890029           0.432950  1.266862   \n",
       "1  0.229710        -1.005322 -1.130328          -0.819964 -0.609370   \n",
       "2 -0.271358        -1.343651 -0.314015          -0.723586  0.055930   \n",
       "3 -0.521891         0.686325  0.175772          -0.241696  1.705647   \n",
       "4  0.605511         1.362984 -0.558909          -0.771775 -0.324445   \n",
       "\n",
       "   NUM_PREV_APP  OCCUPATION  PROVIDED_SIN    INCOME  CREDIT_PROFILE  \\\n",
       "0      0.111744           0             0 -0.904027               1   \n",
       "1     -0.336397           0             1  0.196528               0   \n",
       "2      0.559885           0             0  0.196528               1   \n",
       "3     -0.560467           1             1  0.196528               0   \n",
       "4     -0.560467           1             1  1.572221               0   \n",
       "\n",
       "   Marriage 1  Marriage 2  Edu 1  Edu 2  Edu 3  Edu 4  Edu 5  Edu 6  \n",
       "0         0.0         1.0    0.0    0.0    0.0    0.0    0.0    0.0  \n",
       "1         1.0         0.0    0.0    0.0    0.0    1.0    0.0    0.0  \n",
       "2         0.0         1.0    0.0    0.0    0.0    1.0    0.0    0.0  \n",
       "3         0.0         1.0    0.0    0.0    0.0    0.0    0.0    0.0  \n",
       "4         0.0         1.0    0.0    0.0    0.0    1.0    0.0    0.0  "
      ]
     },
     "execution_count": 4,
     "metadata": {},
     "output_type": "execute_result"
    }
   ],
   "source": [
    "X.head()"
   ]
  },
  {
   "cell_type": "markdown",
   "metadata": {},
   "source": [
    "## Fitting the models"
   ]
  },
  {
   "cell_type": "markdown",
   "metadata": {},
   "source": [
    "#### Create a custom score to compare different models"
   ]
  },
  {
   "cell_type": "code",
   "execution_count": 5,
   "metadata": {},
   "outputs": [],
   "source": [
    "from sklearn.metrics import make_scorer\n",
    "\n",
    "n_test = X_valid.shape[0]\n",
    "def cm_TP_TF(y_valid,y_pred):\n",
    "    cm = (confusion_matrix(y_valid,y_pred,labels=[1, 0],sample_weight=None)/n_test)*100\n",
    "    TP = cm[0][0]                                                                               # True Positives\n",
    "    FN = cm[0][1]                                                                               # False Positives\n",
    "    FP = cm[1][0]                                                                               # True Negatives\n",
    "    TN = cm[1][1]   \n",
    "    TPR = TP/(TP+FN)\n",
    "    TNR = TN/(FP+TN)\n",
    "    return((TPR+TNR)/2)\n",
    "\n",
    "custom_score = make_scorer(cm_TP_TF, greater_is_better = True)"
   ]
  },
  {
   "cell_type": "markdown",
   "metadata": {},
   "source": [
    "### Naive Bayes Classifier -- Perform feature selection first"
   ]
  },
  {
   "cell_type": "code",
   "execution_count": 6,
   "metadata": {},
   "outputs": [
    {
     "name": "stdout",
     "output_type": "stream",
     "text": [
      "NaiveBayes_averageTP&TN= 0.8340126811594203\n"
     ]
    }
   ],
   "source": [
    "# Naive Bayes Classifier depends on the assumption of conditionally independent, so we will do feature selection first to mitigate the dependent problem.\n",
    "from sklearn.feature_selection import SelectFromModel\n",
    "from sklearn.linear_model import LogisticRegression\n",
    "\n",
    "embeded_lr_selector = SelectFromModel(LogisticRegression(penalty=\"l1\"), '1.25*median')\n",
    "embeded_lr_selector.fit(X, y)\n",
    "embeded_lr_support = embeded_lr_selector.get_support()\n",
    "X_new = X.loc[:,embeded_lr_support]\n",
    "X_valid_new = X_valid.loc[:,embeded_lr_support]\n",
    "\n",
    "embeded_lr_feature = X.loc[:,embeded_lr_support].columns.tolist()\n",
    "\n",
    "# Try Naive Bayes Classifier\n",
    "gnb = GaussianNB()\n",
    "y_pred_gnb = gnb.fit(X_new, y).predict(X_valid_new)\n",
    "print('NaiveBayes_averageTP&TN=',cm_TP_TF(y_valid,y_pred_gnb))"
   ]
  },
  {
   "cell_type": "markdown",
   "metadata": {},
   "source": [
    "### Other classification models"
   ]
  },
  {
   "cell_type": "code",
   "execution_count": 7,
   "metadata": {},
   "outputs": [],
   "source": [
    "def clf_fitting(X_train, y_train, X_validation, y_validation):\n",
    "    \n",
    "    # Random forest\n",
    "    clf_rf = RandomForestClassifier(n_estimators=200)\n",
    "    y_pred_rf=clf_rf.fit(X_train, y_train).predict(X_validation)\n",
    "    print('RandomForest average TP&TN=',cm_TP_TF(y_validation,y_pred_rf))\n",
    "\n",
    "    \n",
    "    # Support Vector Classifier                        \n",
    "    clf_svm = svm.SVC(gamma='auto',C=1, kernel='linear')\n",
    "    y_pred_svm=clf_svm.fit(X_train, y_train).predict(X_validation)\n",
    "    print('SupportVector average TP&TN=',cm_TP_TF(y_validation,y_pred_svm))\n",
    "    \n",
    "    # Gradient Boosting\n",
    "    boosting=GradientBoostingClassifier(random_state=0)\n",
    "    y_pred=boosting.fit(X_train, y_train).predict(X_validation)\n",
    "    print('Gradient Boosting average TP&TN=',cm_TP_TF(y_validation,y_pred))\n",
    "    \n",
    "    # Ensemble\n",
    "    bagging = BaggingClassifier(n_estimators=50,bootstrap=True,bootstrap_features=True, random_state=0)\n",
    "    y_pred_bagging = bagging.fit(X_train,y_train).predict(X_validation)\n",
    "    print('Ensemble average TP&TN=',cm_TP_TF(y_validation,y_pred_bagging))\n",
    "    \n",
    "    # Modification for softmargin (SupportVector)\n",
    "    clf_msvm = svm.SVC(gamma='auto',C=0.1, kernel='linear')\n",
    "    y_pred_msvm=clf_msvm.fit(X_train, y_train).predict(X_validation)\n",
    "    print('Modifiedsvm average TP&TN=',cm_TP_TF(y_validation,y_pred_msvm))      "
   ]
  },
  {
   "cell_type": "code",
   "execution_count": 8,
   "metadata": {},
   "outputs": [
    {
     "name": "stdout",
     "output_type": "stream",
     "text": [
      "RandomForest average TP&TN= 0.8525815217391305\n",
      "SupportVector average TP&TN= 0.8804347826086957\n",
      "Gradient Boosting average TP&TN= 0.8826992753623188\n",
      "Ensemble average TP&TN= 0.8485054347826088\n",
      "Modifiedsvm average TP&TN= 0.8804347826086957\n"
     ]
    }
   ],
   "source": [
    "clf_fitting(X, y, X_valid,y_valid)"
   ]
  },
  {
   "cell_type": "markdown",
   "metadata": {},
   "source": [
    "### According to the result above, SupportVector and Gradient Boosting are the best performers, therefore we trained these two models to improve there performances furthermore. "
   ]
  },
  {
   "cell_type": "markdown",
   "metadata": {},
   "source": [
    "## Tunning the parameters in Gradient Boosting -- 1/2(TPR+TNR)=0.8868"
   ]
  },
  {
   "cell_type": "markdown",
   "metadata": {},
   "source": [
    "##### Create a baseline GB model named GBM0"
   ]
  },
  {
   "cell_type": "code",
   "execution_count": 9,
   "metadata": {},
   "outputs": [],
   "source": [
    "from sklearn.model_selection import cross_val_score\n",
    "from sklearn.metrics import roc_curve, auc, average_precision_score\n",
    "# define a function to do cv and GB\n",
    "def fitmodel(model, X, y, PerformCV = True, predprob_exist = True, PrintFeatureImportance=True, cv_folds=5):\n",
    "    #Fitting the model\n",
    "    model.fit(X,y)\n",
    "    \n",
    "    #prediction on target variable\n",
    "    y_pred = model.predict(X_valid)\n",
    "    cm = (confusion_matrix(y_valid,y_pred,labels=[1, 0],sample_weight=None)/n_test)*100\n",
    "    TP = cm[0][0]                                                                               # True Positives\n",
    "    FN = cm[0][1]                                                                               # False Positives\n",
    "    FP = cm[1][0]                                                                               # True Negatives\n",
    "    TN = cm[1][1]   \n",
    "    TPR = TP/(TP+FN)\n",
    "    TNR = TN/(FP+TN)\n",
    "    \n",
    "    if predprob_exist:\n",
    "        y_predprob = model.predict_proba(X_valid)[:,1]\n",
    "        fpr, tpr, _ = roc_curve(y_valid, y_predprob)\n",
    "        roc_auc = auc(fpr,tpr)\n",
    "        print (\"AUC Score: %f\" % roc_auc)\n",
    "    \n",
    "    #perform cross-validation\n",
    "    if PerformCV:\n",
    "        cv_score = cross_val_score(model, X, y, cv=cv_folds, scoring = custom_score)\n",
    "    \n",
    "    #print model report\n",
    "    print (\"\\nModel Report\")\n",
    "    print (\"Average of True Positive and True Negative Rates = {:.4f}\".format((TPR+TNR)/2))\n",
    "    print (\"Accuracy : %4g\" % accuracy_score(y_pred,y_valid))\n",
    "\n",
    "    if PerformCV:\n",
    "        print(\"CV Score : Mean - %.7g | Std - %.7g | Min - %.7g | Max - %.7g \" % (np.mean(cv_score), np.std(cv_score),np.min(cv_score),np.max(cv_score)))\n",
    "   \n",
    "    #print feature important\n",
    "    if PrintFeatureImportance:\n",
    "        fea_import = pd.Series(model.feature_importances_, X.columns).sort_values(ascending = True)\n",
    "        fea_import.plot(kind = \"barh\", title = \"Feature Importances\")\n",
    "        plt.xlabel('feature importances score')    \n",
    "        "
   ]
  },
  {
   "cell_type": "code",
   "execution_count": 10,
   "metadata": {},
   "outputs": [
    {
     "name": "stdout",
     "output_type": "stream",
     "text": [
      "AUC Score: 0.908364\n",
      "\n",
      "Model Report\n",
      "Average of True Positive and True Negative Rates = 0.8827\n",
      "Accuracy : 0.884848\n",
      "CV Score : Mean - 0.8085269 | Std - 0.04706701 | Min - 0.7468688 | Max - 0.8729675 \n"
     ]
    },
    {
     "data": {
      "image/png": "[encoded data removed]",
      "text/plain": [
       "<Figure size 432x288 with 1 Axes>"
      ]
     },
     "metadata": {
      "needs_background": "light"
     },
     "output_type": "display_data"
    }
   ],
   "source": [
    "GBM0 = GradientBoostingClassifier(random_state=0)\n",
    "fitmodel(GBM0, X, y)"
   ]
  },
  {
   "cell_type": "markdown",
   "metadata": {},
   "source": [
    "##### Steps taken to train the model:\n",
    "1. choose a learning rate first (btw 0.05 and 0.2)\n",
    "2. then use cv to find the optimal n_estimator(number of trees:40-70)\n",
    "3. tunning the tree parameters(ie max_depth, min_split_leaf, ets..) using cv\n",
    "3. reduce the learning rate maybe"
   ]
  },
  {
   "cell_type": "markdown",
   "metadata": {},
   "source": [
    "##### Set initial tree parameters:\n",
    "1. min_ samples_ split=50 (0.5-1%)\n",
    "2. min_ samples_ leaf=5\n",
    "3. max_ depth=4\n",
    "4. max_ features='sqrt'\n",
    "5. subsample=0.8\n"
   ]
  },
  {
   "cell_type": "code",
   "execution_count": 11,
   "metadata": {},
   "outputs": [
    {
     "data": {
      "text/plain": [
       "({'n_estimators': 70}, 0.8471249908445031)"
      ]
     },
     "execution_count": 11,
     "metadata": {},
     "output_type": "execute_result"
    }
   ],
   "source": [
    "# choose an optimal n_estimators based on the learning rate of 0.1\n",
    "param_test1 = {'n_estimators': range(20,81,10)}\n",
    "gsearch1 = GridSearchCV(estimator = GradientBoostingClassifier(learning_rate = 0.05, min_samples_split = 50, min_samples_leaf = 5, max_depth = 4, max_features = 'sqrt', subsample = 0.8, random_state = 0), \n",
    "                        param_grid = param_test1, scoring = custom_score, cv = 5, iid = False, n_jobs = 4 )\n",
    "gsearch1.fit(X, y)\n",
    "gsearch1.best_params_, gsearch1.best_score_"
   ]
  },
  {
   "cell_type": "markdown",
   "metadata": {},
   "source": [
    "##### With 0.05 learning rate, the optimal n_estimators is 70\n",
    "Tunning the tree parameter based on the ranking below:\n",
    "1. max_depth and min_samples_split\n",
    "2. min_samples_leaf\n",
    "3. max_features"
   ]
  },
  {
   "cell_type": "code",
   "execution_count": 12,
   "metadata": {},
   "outputs": [
    {
     "data": {
      "text/plain": [
       "({'max_depth': 2, 'min_samples_split': 20}, 0.8623756683512781)"
      ]
     },
     "execution_count": 12,
     "metadata": {},
     "output_type": "execute_result"
    }
   ],
   "source": [
    "param_test2 = {'max_depth': range(2,8,1), 'min_samples_split': range(10,100,10)}  #Small min_samples_split will lead to over-fitting problem\n",
    "gsearch2 = GridSearchCV(estimator = GradientBoostingClassifier(learning_rate = 0.05, n_estimators = 70, max_features = 'sqrt', subsample = 0.8, random_state = 0), \n",
    "                        param_grid = param_test2, scoring = custom_score, cv = 5, iid = False, n_jobs = 4)\n",
    "gsearch2.fit(X,y)\n",
    "gsearch2.best_params_, gsearch2.best_score_"
   ]
  },
  {
   "cell_type": "code",
   "execution_count": 13,
   "metadata": {},
   "outputs": [
    {
     "data": {
      "text/plain": [
       "({'min_samples_leaf': 1}, 0.8623756683512781)"
      ]
     },
     "execution_count": 13,
     "metadata": {},
     "output_type": "execute_result"
    }
   ],
   "source": [
    "param_test3 = {'min_samples_leaf': range(1,20,1)}\n",
    "gsearch3 = GridSearchCV(estimator = GradientBoostingClassifier(learning_rate = 0.05, n_estimators = 70, max_features =  'sqrt', max_depth = 2, min_samples_split = 20, subsample = 0.8, random_state = 0 ),\n",
    "                        param_grid = param_test3, scoring = custom_score, cv = 5, iid = False, n_jobs = 4)\n",
    "gsearch3.fit(X,y)\n",
    "gsearch3.best_params_ , gsearch3.best_score_\n"
   ]
  },
  {
   "cell_type": "code",
   "execution_count": 14,
   "metadata": {},
   "outputs": [
    {
     "name": "stdout",
     "output_type": "stream",
     "text": [
      "AUC Score: 0.924517\n",
      "\n",
      "Model Report\n",
      "Average of True Positive and True Negative Rates = 0.8816\n",
      "Accuracy : 0.878788\n",
      "CV Score : Mean - 0.8623757 | Std - 0.0370172 | Min - 0.806526 | Max - 0.8990515 \n"
     ]
    },
    {
     "data": {
      "image/png": "[encoded data removed]",
      "text/plain": [
       "<Figure size 432x288 with 1 Axes>"
      ]
     },
     "metadata": {
      "needs_background": "light"
     },
     "output_type": "display_data"
    }
   ],
   "source": [
    "fitmodel(gsearch3.best_estimator_, X, y)"
   ]
  },
  {
   "cell_type": "markdown",
   "metadata": {},
   "source": [
    "The std of CV Score has decreased, and the mean of CV score has increased\n",
    "Moreover, feature importances score became more even"
   ]
  },
  {
   "cell_type": "code",
   "execution_count": 15,
   "metadata": {},
   "outputs": [
    {
     "data": {
      "text/plain": [
       "({'max_features': 4}, 0.8623756683512781)"
      ]
     },
     "execution_count": 15,
     "metadata": {},
     "output_type": "execute_result"
    }
   ],
   "source": [
    "param_test4 = {'max_features': range(1,5,1)}\n",
    "gsearch4 = GridSearchCV(estimator = GradientBoostingClassifier(learning_rate = 0.05, n_estimators = 70, min_samples_leaf = 1, max_depth = 2, min_samples_split = 20, subsample = 0.8, random_state = 0 ),\n",
    "                        param_grid = param_test4, scoring = custom_score, cv = 5, iid = False, n_jobs = 4)\n",
    "gsearch4.fit(X,y)\n",
    "gsearch4.best_params_ , gsearch4.best_score_"
   ]
  },
  {
   "cell_type": "code",
   "execution_count": 16,
   "metadata": {},
   "outputs": [
    {
     "data": {
      "text/plain": [
       "({'subsample': 0.6}, 0.865153446129056)"
      ]
     },
     "execution_count": 16,
     "metadata": {},
     "output_type": "execute_result"
    }
   ],
   "source": [
    "# Find the optimal subsample(percent of total obs used to estimator each tree)\n",
    "param_test5 = {'subsample': [0.6,0.7,0.75,0.8,0.85,0.9]}\n",
    "gsearch5 = GridSearchCV(estimator = GradientBoostingClassifier(learning_rate = 0.05, n_estimators = 70, max_features = 4, min_samples_leaf = 1, max_depth = 2, min_samples_split = 20, random_state = 0 ),\n",
    "                        param_grid = param_test5, scoring = custom_score, cv = 5, iid = False, n_jobs = 4)\n",
    "gsearch5.fit(X,y)\n",
    "gsearch5.best_params_ , gsearch5.best_score_"
   ]
  },
  {
   "cell_type": "markdown",
   "metadata": {},
   "source": [
    "To summarize, the optimal tree parameters are: \n",
    "1. max_depth = 2\n",
    "2. min_samples_split = 20\n",
    "3. min_sample_leaf = 1\n",
    "4. max_features = 4\n",
    "5. subsample = 0.6"
   ]
  },
  {
   "cell_type": "markdown",
   "metadata": {},
   "source": [
    "##### Plug in the optimal parameter and fit the GBmodel again"
   ]
  },
  {
   "cell_type": "code",
   "execution_count": 17,
   "metadata": {},
   "outputs": [
    {
     "name": "stdout",
     "output_type": "stream",
     "text": [
      "AUC Score: 0.927536\n",
      "\n",
      "Model Report\n",
      "Average of True Positive and True Negative Rates = 0.8868\n",
      "Accuracy : 0.884848\n",
      "CV Score : Mean - 0.8651534 | Std - 0.03970721 | Min - 0.806526 | Max - 0.9078591 \n"
     ]
    },
    {
     "data": {
      "image/png": "[encoded data removed]",
      "text/plain": [
       "<Figure size 432x288 with 1 Axes>"
      ]
     },
     "metadata": {
      "needs_background": "light"
     },
     "output_type": "display_data"
    }
   ],
   "source": [
    "GBM_tuned_1 = GradientBoostingClassifier(learning_rate = 0.05, n_estimators = 70, max_depth = 2, min_samples_split = 20,\n",
    "                                        min_samples_leaf = 1, max_features = 4, subsample = 0.6, random_state = 0)\n",
    "fitmodel(GBM_tuned_1,X,y)"
   ]
  },
  {
   "cell_type": "markdown",
   "metadata": {},
   "source": [
    "##### Step 4: Lower the learning rate gradually to make the performance more stable (n_estimator should increase at the same time)"
   ]
  },
  {
   "cell_type": "code",
   "execution_count": 18,
   "metadata": {},
   "outputs": [
    {
     "name": "stdout",
     "output_type": "stream",
     "text": [
      "AUC Score: 0.929197\n",
      "\n",
      "Model Report\n",
      "Average of True Positive and True Negative Rates = 0.8868\n",
      "Accuracy : 0.884848\n",
      "CV Score : Mean - 0.8592591 | Std - 0.03035026 | Min - 0.8187212 | Max - 0.8990515 \n"
     ]
    },
    {
     "data": {
      "image/png": "[encoded data removed]",
      "text/plain": [
       "<Figure size 432x288 with 1 Axes>"
      ]
     },
     "metadata": {
      "needs_background": "light"
     },
     "output_type": "display_data"
    }
   ],
   "source": [
    "GBM_tuned_2 = GradientBoostingClassifier(learning_rate = 0.025, n_estimators = 140, max_depth = 2, min_samples_split = 20,\n",
    "                                        min_samples_leaf = 1, max_features = 4, subsample = 0.6, random_state = 0)\n",
    "fitmodel(GBM_tuned_2,X,y)"
   ]
  },
  {
   "cell_type": "markdown",
   "metadata": {},
   "source": [
    "## Support Vector Classifier (SVC) - Tunning parameters"
   ]
  },
  {
   "cell_type": "markdown",
   "metadata": {},
   "source": [
    "#### Baseline SVC (with default parameter)"
   ]
  },
  {
   "cell_type": "code",
   "execution_count": 19,
   "metadata": {},
   "outputs": [
    {
     "name": "stdout",
     "output_type": "stream",
     "text": [
      "\n",
      "Model Report\n",
      "Average of True Positive and True Negative Rates = 0.8804\n",
      "Accuracy : 0.872727\n",
      "CV Score : Mean - 0.8397572 | Std - 0.03749425 | Min - 0.7722222 | Max - 0.8851626 \n"
     ]
    }
   ],
   "source": [
    "svc = svm.SVC(kernel = 'linear', gamma = 'auto')\n",
    "fitmodel(svc, X, y, predprob_exist = False, PrintFeatureImportance = False)"
   ]
  },
  {
   "cell_type": "markdown",
   "metadata": {},
   "source": [
    "Parameters in SVC:\n",
    "1. C (penalty on misclassification)\n",
    "2. kernel \n",
    "3. gamma (decline rate)"
   ]
  },
  {
   "cell_type": "code",
   "execution_count": 20,
   "metadata": {},
   "outputs": [
    {
     "data": {
      "text/plain": [
       "(385, 18)"
      ]
     },
     "execution_count": 20,
     "metadata": {},
     "output_type": "execute_result"
    }
   ],
   "source": [
    "X.shape"
   ]
  },
  {
   "cell_type": "markdown",
   "metadata": {},
   "source": [
    "why 'precomputed' method cannot use gridsearch to test?"
   ]
  },
  {
   "cell_type": "code",
   "execution_count": 21,
   "metadata": {},
   "outputs": [
    {
     "data": {
      "text/plain": [
       "({'mean_fit_time': array([0.01250501, 0.01974144, 0.01368179, 0.01548429]),\n",
       "  'std_fit_time': array([0.00435468, 0.00344225, 0.00564259, 0.00707636]),\n",
       "  'mean_score_time': array([0.00360532, 0.00658278, 0.00447221, 0.0046412 ]),\n",
       "  'std_score_time': array([0.00036867, 0.00164161, 0.00095802, 0.00191926]),\n",
       "  'param_kernel': masked_array(data=['linear', 'poly', 'rbf', 'sigmoid'],\n",
       "               mask=[False, False, False, False],\n",
       "         fill_value='?',\n",
       "              dtype=object),\n",
       "  'params': [{'kernel': 'linear'},\n",
       "   {'kernel': 'poly'},\n",
       "   {'kernel': 'rbf'},\n",
       "   {'kernel': 'sigmoid'}],\n",
       "  'split0_test_score': array([0.85102175, 0.66348055, 0.84970336, 0.83487146]),\n",
       "  'split1_test_score': array([0.8851626 , 0.7100271 , 0.85907859, 0.91124661]),\n",
       "  'split2_test_score': array([0.85569106, 0.66836043, 0.85907859, 0.85738482]),\n",
       "  'split3_test_score': array([0.83468835, 0.72560976, 0.85907859, 0.87127371]),\n",
       "  'split4_test_score': array([0.77222222, 0.69583333, 0.77222222, 0.79305556]),\n",
       "  'mean_test_score': array([0.8397572 , 0.69266224, 0.83983227, 0.85356643]),\n",
       "  'std_test_score': array([0.03749425, 0.02382974, 0.03399947, 0.03915661]),\n",
       "  'rank_test_score': array([3, 4, 2, 1], dtype=int32)},\n",
       " {'kernel': 'sigmoid'},\n",
       " 0.8535664322859444)"
      ]
     },
     "execution_count": 21,
     "metadata": {},
     "output_type": "execute_result"
    }
   ],
   "source": [
    "param_test1 = {'kernel': ['linear','poly','rbf','sigmoid']}\n",
    "gsearch1 = GridSearchCV(estimator = svm.SVC(), param_grid = param_test1, cv =5, iid = False, scoring = custom_score, n_jobs = 4)\n",
    "gsearch1.fit(X,y)\n",
    "gsearch1.cv_results_, gsearch1.best_params_, gsearch1.best_score_"
   ]
  },
  {
   "cell_type": "code",
   "execution_count": 22,
   "metadata": {
    "scrolled": true
   },
   "outputs": [
    {
     "data": {
      "text/plain": [
       "({'gamma': 0.03252631578947368}, 0.8597526184721307)"
      ]
     },
     "execution_count": 22,
     "metadata": {},
     "output_type": "execute_result"
    }
   ],
   "source": [
    "param_test2 = {'gamma': np.linspace(0.001,0.6,20)}\n",
    "gsearch2 = GridSearchCV(estimator = svm.SVC(kernel = 'sigmoid'), param_grid = param_test2, cv =5, iid = False, scoring = custom_score, n_jobs = 4)\n",
    "gsearch2.fit(X,y)\n",
    "gsearch2.best_params_, gsearch2.best_score_"
   ]
  },
  {
   "cell_type": "code",
   "execution_count": 23,
   "metadata": {},
   "outputs": [
    {
     "data": {
      "text/plain": [
       "({'C': 2.236842105263158}, 0.8653935032593569)"
      ]
     },
     "execution_count": 23,
     "metadata": {},
     "output_type": "execute_result"
    }
   ],
   "source": [
    "param_test3 = {'C': np.linspace(0.1,3,20)}\n",
    "gsearch3 = GridSearchCV(estimator = svm.SVC(kernel = 'sigmoid', gamma = 0.03252631578947368), param_grid = param_test3, cv =5, iid = False, scoring = custom_score, n_jobs = 4)\n",
    "gsearch3.fit(X,y)\n",
    "gsearch3.best_params_, gsearch3.best_score_"
   ]
  },
  {
   "cell_type": "code",
   "execution_count": 24,
   "metadata": {},
   "outputs": [
    {
     "name": "stdout",
     "output_type": "stream",
     "text": [
      "\n",
      "Model Report\n",
      "Average of True Positive and True Negative Rates = 0.8784\n",
      "Accuracy : 0.872727\n",
      "CV Score : Mean - 0.8653935 | Std - 0.02684438 | Min - 0.8208333 | Max - 0.8973577 \n"
     ]
    }
   ],
   "source": [
    "model = svm.SVC(C =2.236842105263158, kernel = 'sigmoid', gamma = 0.03252631578947368)\n",
    "fitmodel(model, X, y, predprob_exist = False, PrintFeatureImportance = False)"
   ]
  },
  {
   "cell_type": "markdown",
   "metadata": {},
   "source": [
    "Comparing the result above with the cv score from Gradient Boosting Model:\n",
    "\n",
    "Average of True Positive and True Negative Rates = 0.8868\n",
    "Accuracy : 0.884848\n",
    "AUC Score: 0.929197\n",
    "CV Score : Mean - 0.8592591 | Std - 0.03035026 | Min - 0.8187212 | Max - 0.8990515 \n"
   ]
  },
  {
   "cell_type": "markdown",
   "metadata": {},
   "source": [
    "##### To summarize, the average performance of SVC is higher than GBM, and it has lower std."
   ]
  },
  {
   "cell_type": "markdown",
   "metadata": {},
   "source": [
    "## Neural Network"
   ]
  },
  {
   "cell_type": "code",
   "execution_count": 133,
   "metadata": {},
   "outputs": [
    {
     "name": "stdout",
     "output_type": "stream",
     "text": [
      "AUC Score: 0.915761\n",
      "\n",
      "Model Report\n",
      "Average of True Positive and True Negative Rates = 0.8526\n",
      "Accuracy : 0.854545\n",
      "CV Score : Mean - 0.8471448 | Std - 0.02803505 | Min - 0.8078444 | Max - 0.8800813 \n"
     ]
    }
   ],
   "source": [
    "from sklearn.neural_network import MLPClassifier\n",
    "model = MLPClassifier(alpha = 0.6)\n",
    "fitmodel(model, X, y, predprob_exist = True, PrintFeatureImportance = False)"
   ]
  },
  {
   "cell_type": "markdown",
   "metadata": {},
   "source": [
    "class sklearn.neural_network.MLPClassifier(hidden_layer_sizes=(100, ), activation='relu', solver='adam', alpha=0.0001, batch_size='auto', learning_rate='constant', learning_rate_init=0.001, power_t=0.5, max_iter=200, shuffle=True, random_state=None, tol=0.0001, verbose=False, warm_start=False, momentum=0.9, nesterovs_momentum=True, early_stopping=False, validation_fraction=0.1, beta_1=0.9, beta_2=0.999, epsilon=1e-08, n_iter_no_change=10, max_fun=15000)"
   ]
  },
  {
   "cell_type": "code",
   "execution_count": 63,
   "metadata": {},
   "outputs": [
    {
     "name": "stdout",
     "output_type": "stream",
     "text": [
      "MLPClassifier(activation='relu', alpha=0.0001, batch_size='auto', beta_1=0.9,\n",
      "              beta_2=0.999, early_stopping=False, epsilon=1e-08,\n",
      "              hidden_layer_sizes=(100,), learning_rate='constant',\n",
      "              learning_rate_init=0.001, max_iter=200, momentum=0.9,\n",
      "              n_iter_no_change=10, nesterovs_momentum=True, power_t=0.5,\n",
      "              random_state=None, shuffle=True, solver='adam', tol=0.0001,\n",
      "              validation_fraction=0.1, verbose=False, warm_start=False)\n"
     ]
    }
   ],
   "source": [
    "# Print out the default hyperparameters\n",
    "model = MLPClassifier()\n",
    "print(model)"
   ]
  },
  {
   "cell_type": "code",
   "execution_count": 142,
   "metadata": {},
   "outputs": [
    {
     "data": {
      "text/plain": [
       "({'alpha': 0.23357214690901212}, 0.8526252471984179)"
      ]
     },
     "execution_count": 142,
     "metadata": {},
     "output_type": "execute_result"
    }
   ],
   "source": [
    "param_test1 = {'alpha': [10**i for i in np.linspace(-3,0,20)]}\n",
    "gsearch1 = GridSearchCV(estimator = MLPClassifier(), param_grid = param_test1, cv=5, scoring = custom_score, iid = False, n_jobs = 4 )\n",
    "gsearch1. fit(X,y)\n",
    "gsearch1.best_params_, gsearch1.best_score_"
   ]
  },
  {
   "cell_type": "code",
   "execution_count": 145,
   "metadata": {},
   "outputs": [
    {
     "data": {
      "text/plain": [
       "({'activation': 'identity', 'solver': 'adam'}, 0.8581808027539735)"
      ]
     },
     "execution_count": 145,
     "metadata": {},
     "output_type": "execute_result"
    }
   ],
   "source": [
    "param_test1 = {'activation': ['identity', 'logistic', 'tanh', 'relu'], 'solver': ['lbfgs', 'sgd', 'adam']}\n",
    "gsearch1 = GridSearchCV(estimator = MLPClassifier(alpha =  0.2335), param_grid = param_test1, cv=5, scoring = custom_score, iid = False, n_jobs = 4 )\n",
    "gsearch1. fit(X,y)\n",
    "gsearch1.best_params_, gsearch1.best_score_"
   ]
  },
  {
   "cell_type": "code",
   "execution_count": 146,
   "metadata": {},
   "outputs": [
    {
     "data": {
      "text/plain": [
       "({'hidden_layer_sizes': (80, 80, 80, 80, 80, 80, 80, 80)}, 0.8590350877192983)"
      ]
     },
     "execution_count": 146,
     "metadata": {},
     "output_type": "execute_result"
    }
   ],
   "source": [
    "# Using grid search to find the optimal hidden_layer_sizes\n",
    "mytuple =[]\n",
    "j=20\n",
    "for i in range(5,10):\n",
    "    ituple = (j,)*i\n",
    "    j = j+20\n",
    "    mytuple.append(ituple)\n",
    "    \n",
    "param_test2 = {'hidden_layer_sizes': mytuple}\n",
    "gsearch2 = GridSearchCV(estimator = MLPClassifier(activation = 'identity', solver = 'adam', alpha =  0.2335, max_iter = 10), param_grid = param_test2, cv = 10, scoring = custom_score, n_jobs = 4, iid = False)\n",
    "gsearch2.fit(X,y)\n",
    "gsearch2.best_params_, gsearch2.best_score_"
   ]
  },
  {
   "cell_type": "code",
   "execution_count": 151,
   "metadata": {},
   "outputs": [
    {
     "name": "stdout",
     "output_type": "stream",
     "text": [
      "AUC Score: 0.906401\n",
      "\n",
      "Model Report\n",
      "Average of True Positive and True Negative Rates = 0.8712\n",
      "Accuracy : 0.866667\n",
      "CV Score : Mean - 0.8638724 | Std - 0.03660143 | Min - 0.8078444 | Max - 0.8973577 \n"
     ]
    }
   ],
   "source": [
    "model = MLPClassifier(activation = 'identity', solver =  'adam', hidden_layer_sizes = (80, 80, 80, 80, 80, 80, 80, 80), max_iter = 10, alpha =  0.2335)\n",
    "fitmodel(model, X, y, PrintFeatureImportance = False)"
   ]
  },
  {
   "cell_type": "code",
   "execution_count": 155,
   "metadata": {},
   "outputs": [
    {
     "name": "stdout",
     "output_type": "stream",
     "text": [
      "AUC Score: 0.908816\n",
      "\n",
      "Model Report\n",
      "Average of True Positive and True Negative Rates = 0.8712\n",
      "Accuracy : 0.866667\n",
      "CV Score : Mean - 0.8642112 | Std - 0.03245611 | Min - 0.8200396 | Max - 0.8990515 \n"
     ]
    }
   ],
   "source": [
    "model = MLPClassifier(activation = 'identity', solver =  'lbfgs', hidden_layer_sizes = (40,40,40,40,40,40), max_iter = 10, alpha =  0.2335)\n",
    "fitmodel(model, X, y, PrintFeatureImportance = False)"
   ]
  },
  {
   "cell_type": "code",
   "execution_count": 157,
   "metadata": {},
   "outputs": [
    {
     "name": "stdout",
     "output_type": "stream",
     "text": [
      "THRESHOLD                  0  0.111111  0.222222  0.333333  0.444444  0.555556  0.666667  0.777778  0.888889         1\n",
      "accuracy            0.418182  0.745455  0.848485  0.860606  0.860606  0.872727  0.824242  0.793939  0.757576  0.581818\n",
      "true positive rate         1  0.927536  0.927536  0.913043  0.898551  0.855072  0.695652  0.594203  0.478261         0\n",
      "true negative rate         0  0.614583  0.791667  0.822917  0.833333  0.885417  0.916667    0.9375  0.958333         1\n",
      "(TPR+TNR)/2              0.5   0.77106  0.859601   0.86798  0.865942  0.870245  0.806159  0.765851  0.718297       0.5\n"
     ]
    }
   ],
   "source": [
    "y_pred_prob = model.predict_proba(X_valid)[:,1]\n",
    "Thresholds = np.linspace(0,1,10)\n",
    "results = pd.DataFrame(columns=[\"THRESHOLD\", \"accuracy\", \"true positive rate\", \"true negative rate\", \"(TPR+TNR)/2\"]) # df to store results\n",
    "results['THRESHOLD'] = Thresholds                                                           # threshold column\n",
    "for i in range(len(Thresholds)):\n",
    "    y_pred1 = np.where(y_pred_prob>Thresholds[i],1,0)\n",
    "    valid_accuracy = accuracy_score(y_valid,y_pred1)\n",
    "    TN, FP, FN, TP = confusion_matrix(y_valid,y_pred1,sample_weight=None).ravel()\n",
    "    TPR = TP/(TP+FN)\n",
    "    TNR = TN/(TN+FP)\n",
    "    results.iloc[i,1] = valid_accuracy \n",
    "    results.iloc[i,2] = TPR\n",
    "    results.iloc[i,3] = TNR                                                              \n",
    "    results.iloc[i,4] = (TPR+TNR)/2\n",
    "results.style.hide_index()\n",
    "print(results.T.to_string(header=False))"
   ]
  },
  {
   "cell_type": "code",
   "execution_count": 158,
   "metadata": {},
   "outputs": [
    {
     "data": {
      "text/plain": [
       "0.868796992481203"
      ]
     },
     "execution_count": 158,
     "metadata": {},
     "output_type": "execute_result"
    }
   ],
   "source": [
    "y_pred1 = np.where(y_pred_prob>0.5555,1,0)\n",
    "cm_TP_TF(y_pred1,y_valid)"
   ]
  },
  {
   "cell_type": "code",
   "execution_count": null,
   "metadata": {},
   "outputs": [],
   "source": []
  }
 ],
 "metadata": {
  "kernelspec": {
   "display_name": "Python 3",
   "language": "python",
   "name": "python3"
  },
  "language_info": {
   "codemirror_mode": {
    "name": "ipython",
    "version": 3
   },
   "file_extension": ".py",
   "mimetype": "text/x-python",
   "name": "python",
   "nbconvert_exporter": "python",
   "pygments_lexer": "ipython3",
   "version": "3.7.4"
  }
 },
 "nbformat": 4,
 "nbformat_minor": 2
}
